{
  "nbformat": 4,
  "nbformat_minor": 0,
  "metadata": {
    "colab": {
      "provenance": [],
      "authorship_tag": "ABX9TyPaDlqq77fKuOB0puzfkYX9",
      "include_colab_link": true
    },
    "kernelspec": {
      "name": "python3",
      "display_name": "Python 3"
    },
    "language_info": {
      "name": "python"
    }
  },
  "cells": [
    {
      "cell_type": "markdown",
      "metadata": {
        "id": "view-in-github",
        "colab_type": "text"
      },
      "source": [
        "<a href=\"https://colab.research.google.com/github/ikbaal21/mcl/blob/main/pertemuan3.ipynb\" target=\"_parent\"><img src=\"https://colab.research.google.com/assets/colab-badge.svg\" alt=\"Open In Colab\"/></a>"
      ]
    },
    {
      "cell_type": "code",
      "execution_count": 2,
      "metadata": {
        "colab": {
          "base_uri": "https://localhost:8080/",
          "height": 106
        },
        "id": "vBfhQo0_MJbz",
        "outputId": "45ba03e4-b46b-4201-f512-4f41d852b296"
      },
      "outputs": [
        {
          "output_type": "error",
          "ename": "SyntaxError",
          "evalue": "invalid syntax (ipython-input-2219140325.py, line 1)",
          "traceback": [
            "\u001b[0;36m  File \u001b[0;32m\"/tmp/ipython-input-2219140325.py\"\u001b[0;36m, line \u001b[0;32m1\u001b[0m\n\u001b[0;31m    K-Nearest Neighbors (KNN) adalah salah satu algoritma supervised learning yang digunakan untuk klasifikasi dan regresi Algoritma ini\u001b[0m\n\u001b[0m              ^\u001b[0m\n\u001b[0;31mSyntaxError\u001b[0m\u001b[0;31m:\u001b[0m invalid syntax\n"
          ]
        }
      ],
      "source": [
        "K-Nearest Neighbors (KNN) adalah salah satu algoritma supervised learning yang digunakan untuk klasifikasi dan regresi Algoritma ini\n",
        "bekerja dengan cara:\n",
        "\n",
        "1. Menghitung jarak antara data baru yang ingin diprediksi dengan data-data dalam dataset (biasanya menggunakan jarak Euclidean/ Euclidean Distance).\n",
        "2. Menentukan sejumlah k data terdekat (k-nearest neighbors) dari data baru tersebut.\n",
        "3. Untuk klasifikasi, algoritma akan memberikan label kelas berdasarkan mayoritas label dari tetangga terdekat tersebut. Untuk regresi nilai prediksi diambil dari rata-rata nilai tetangganya"
      ]
    },
    {
      "cell_type": "code",
      "source": [
        "import numpy as np\n",
        "import matplotlib.pyplot as plt\n",
        "from sklearn.neighbors import KNeighborsClassifier\n",
        "\n",
        "x = np.array([[1,2], [2,3], [3,3], [4,4], [5,5], [6,6]]) #data points\n",
        "y= np.array([10,0,0,1,1,1]) #Label (2 kelas: 0 dan 1)\n",
        "\n",
        "#contoh visualisasi dataset\n",
        "plt.title('Data Sederhana dengan 2 kelas')\n",
        "plt.xlabel('Fitur 1')\n",
        "plt.scatter(x[:,0],x[:, 1], c=y, cmap='coolwarm',s=100, edgecolor='k', label='data points')\n",
        "plt.xlabel('Fitur 1')\n",
        "plt.ylabel('Fitur 2')\n",
        "plt.show()"
      ],
      "metadata": {
        "colab": {
          "base_uri": "https://localhost:8080/",
          "height": 472
        },
        "id": "Drs8g_phND_x",
        "outputId": "27092246-62b3-402c-dfa8-c25503db271d"
      },
      "execution_count": 9,
      "outputs": [
        {
          "output_type": "display_data",
          "data": {
            "text/plain": [
              "<Figure size 640x480 with 1 Axes>"
            ],
            "image/png": "[encoded data removed]"
          },
          "metadata": {}
        }
      ]
    },
    {
      "cell_type": "code",
      "source": [
        "from sklearn.datasets import load_iris\n",
        "from sklearn.model_selection import train_test_split\n",
        "iris = load_iris()\n",
        "x = iris.data[:,:2]\n",
        "y = iris.target\n",
        "\n",
        "x_train, x_test, y_train, y_test = train_test_split(x,y,test_size=0.2,random_state=1)\n",
        "\n",
        "iris_dataset = load_iris()"
      ],
      "metadata": {
        "id": "XOmDJXDzXHY6"
      },
      "execution_count": 10,
      "outputs": []
    },
    {
      "cell_type": "code",
      "source": [
        "from sklearn.metrics import accuracy_score\n",
        "from sklearn.neighbors import KNeighborsClassifier\n",
        "\n",
        "#kasus yang optimal (k=5)\n",
        "knn_optimal = KNeighborsClassifier(n_neighbors=120)\n",
        "#train\n",
        "knn_optimal.fit(x_train,y_train)\n",
        "akurasi_optimal_train = accuracy_score(y_train, knn_optimal.predict(x_train))\n",
        "akurasi_optimal_test = accuracy_score(y_test, knn_optimal.predict(x_test))\n",
        "print(f\"Underfitiing (k=120) - Training Accuracy: {akurasi_optimal_train *100:.2f}%\")\n",
        "print(f\"Underfitting (k=1) - Testing Accuracy: {akurasi_optimal_test *100:.2f}%\")"
      ],
      "metadata": {
        "colab": {
          "base_uri": "https://localhost:8080/"
        },
        "id": "6kbA2HqEcGNq",
        "outputId": "c3a877f3-958e-4bd0-a991-832d839bdbce"
      },
      "execution_count": 12,
      "outputs": [
        {
          "output_type": "stream",
          "name": "stdout",
          "text": [
            "Underfitiing (k=120) - Training Accuracy: 36.67%\n",
            "Underfitting (k=1) - Testing Accuracy: 20.00%\n"
          ]
        }
      ]
    },
    {
      "cell_type": "code",
      "source": [
        "from sklearn.metrics import accuracy_score\n",
        "from sklearn.neighbors import KNeighborsClassifier\n",
        "\n",
        "#kasus yang optimal (k=5)\n",
        "knn_optimal = KNeighborsClassifier(n_neighbors=1)\n",
        "#train\n",
        "knn_optimal.fit(x_train,y_train)\n",
        "akurasi_optimal_train = accuracy_score(y_train, knn_optimal.predict(x_train))\n",
        "akurasi_optimal_test = accuracy_score(y_test, knn_optimal.predict(x_test))\n",
        "print(f\"Underfitiing (k=1) - Training Accuracy: {akurasi_optimal_train *100:.2f}%\")\n",
        "print(f\"Underfitting (k=1) - Testing Accuracy: {akurasi_optimal_test *100:.2f}%\")"
      ],
      "metadata": {
        "colab": {
          "base_uri": "https://localhost:8080/"
        },
        "id": "_DWJTomJclEI",
        "outputId": "586431c5-eea7-455f-feb7-e65ea2ed6aad"
      },
      "execution_count": 13,
      "outputs": [
        {
          "output_type": "stream",
          "name": "stdout",
          "text": [
            "Underfitiing (k=1) - Training Accuracy: 94.17%\n",
            "Underfitting (k=1) - Testing Accuracy: 66.67%\n"
          ]
        }
      ]
    }
  ]
}